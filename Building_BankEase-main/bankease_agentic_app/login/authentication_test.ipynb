{
 "cells": [
  {
   "cell_type": "code",
   "execution_count": 1,
   "id": "f9fa2d41",
   "metadata": {},
   "outputs": [
    {
     "name": "stdout",
     "output_type": "stream",
     "text": [
      "Collecting bcrypt\n",
      "  Downloading bcrypt-4.3.0-cp39-abi3-win_amd64.whl.metadata (10 kB)\n",
      "Downloading bcrypt-4.3.0-cp39-abi3-win_amd64.whl (152 kB)\n",
      "Installing collected packages: bcrypt\n",
      "Successfully installed bcrypt-4.3.0\n",
      "Note: you may need to restart the kernel to use updated packages.\n"
     ]
    }
   ],
   "source": [
    "%pip install bcrypt"
   ]
  },
  {
   "cell_type": "code",
   "execution_count": 2,
   "id": "034ebe39",
   "metadata": {},
   "outputs": [
    {
     "name": "stdout",
     "output_type": "stream",
     "text": [
      "Stored hash: b'$2b$12$.mNbp/KhvXnuq2SAtjHfLuqUxCJldiSqRgf27WFtUb0LzqKz4x2GC'\n"
     ]
    }
   ],
   "source": [
    "import bcrypt\n",
    "\n",
    "# User enters password\n",
    "password = \"mysecretpassword\"\n",
    "\n",
    "# Convert to bytes\n",
    "password_bytes = password.encode('utf-8')\n",
    "\n",
    "# Generate salt and hash\n",
    "hashed = bcrypt.hashpw(password_bytes, bcrypt.gensalt())\n",
    "\n",
    "# Store hashed in your database\n",
    "print(\"Stored hash:\", hashed)\n"
   ]
  },
  {
   "cell_type": "code",
   "execution_count": 3,
   "id": "ed62dbcb",
   "metadata": {},
   "outputs": [
    {
     "name": "stdout",
     "output_type": "stream",
     "text": [
      "✅ Login successful\n"
     ]
    }
   ],
   "source": [
    "# Password entered by user during login\n",
    "entered_password = \"mysecretpassword\"\n",
    "\n",
    "# Stored hash from database\n",
    "stored_hash = hashed  # Load this from database\n",
    "\n",
    "# Check if the entered password matches the hash\n",
    "if bcrypt.checkpw(entered_password.encode('utf-8'), stored_hash):\n",
    "    print(\"✅ Login successful\")\n",
    "else:\n",
    "    print(\"❌ Invalid password\")\n"
   ]
  },
  {
   "cell_type": "code",
   "execution_count": 4,
   "id": "f07d36ac",
   "metadata": {},
   "outputs": [
    {
     "name": "stdout",
     "output_type": "stream",
     "text": [
      "❌ Invalid password\n"
     ]
    }
   ],
   "source": [
    "# Password entered by user during login\n",
    "entered_password = \"randomstring\"\n",
    "\n",
    "# Stored hash from database\n",
    "stored_hash = hashed  # Load this from database\n",
    "\n",
    "# Check if the entered password matches the hash\n",
    "if bcrypt.checkpw(entered_password.encode('utf-8'), stored_hash):\n",
    "    print(\"✅ Login successful\")\n",
    "else:\n",
    "    print(\"❌ Invalid password\")\n"
   ]
  },
  {
   "cell_type": "code",
   "execution_count": null,
   "id": "c68ba14b",
   "metadata": {},
   "outputs": [
    {
     "name": "stdout",
     "output_type": "stream",
     "text": [
      "Collecting openpyxl\n",
      "  Using cached openpyxl-3.1.5-py2.py3-none-any.whl.metadata (2.5 kB)\n",
      "Collecting et-xmlfile (from openpyxl)\n",
      "  Using cached et_xmlfile-2.0.0-py3-none-any.whl.metadata (2.7 kB)\n",
      "Using cached openpyxl-3.1.5-py2.py3-none-any.whl (250 kB)\n",
      "Using cached et_xmlfile-2.0.0-py3-none-any.whl (18 kB)\n",
      "Installing collected packages: et-xmlfile, openpyxl\n",
      "\n",
      "   ---------------------------------------- 0/2 [et-xmlfile]\n",
      "   -------------------- ------------------- 1/2 [openpyxl]\n",
      "   -------------------- ------------------- 1/2 [openpyxl]\n",
      "   -------------------- ------------------- 1/2 [openpyxl]\n",
      "   -------------------- ------------------- 1/2 [openpyxl]\n",
      "   -------------------- ------------------- 1/2 [openpyxl]\n",
      "   -------------------- ------------------- 1/2 [openpyxl]\n",
      "   -------------------- ------------------- 1/2 [openpyxl]\n",
      "   -------------------- ------------------- 1/2 [openpyxl]\n",
      "   -------------------- ------------------- 1/2 [openpyxl]\n",
      "   -------------------- ------------------- 1/2 [openpyxl]\n",
      "   -------------------- ------------------- 1/2 [openpyxl]\n",
      "   -------------------- ------------------- 1/2 [openpyxl]\n",
      "   -------------------- ------------------- 1/2 [openpyxl]\n",
      "   -------------------- ------------------- 1/2 [openpyxl]\n",
      "   -------------------- ------------------- 1/2 [openpyxl]\n",
      "   -------------------- ------------------- 1/2 [openpyxl]\n",
      "   -------------------- ------------------- 1/2 [openpyxl]\n",
      "   -------------------- ------------------- 1/2 [openpyxl]\n",
      "   -------------------- ------------------- 1/2 [openpyxl]\n",
      "   -------------------- ------------------- 1/2 [openpyxl]\n",
      "   -------------------- ------------------- 1/2 [openpyxl]\n",
      "   -------------------- ------------------- 1/2 [openpyxl]\n",
      "   -------------------- ------------------- 1/2 [openpyxl]\n",
      "   -------------------- ------------------- 1/2 [openpyxl]\n",
      "   -------------------- ------------------- 1/2 [openpyxl]\n",
      "   -------------------- ------------------- 1/2 [openpyxl]\n",
      "   -------------------- ------------------- 1/2 [openpyxl]\n",
      "   -------------------- ------------------- 1/2 [openpyxl]\n",
      "   -------------------- ------------------- 1/2 [openpyxl]\n",
      "   -------------------- ------------------- 1/2 [openpyxl]\n",
      "   -------------------- ------------------- 1/2 [openpyxl]\n",
      "   -------------------- ------------------- 1/2 [openpyxl]\n",
      "   -------------------- ------------------- 1/2 [openpyxl]\n",
      "   -------------------- ------------------- 1/2 [openpyxl]\n",
      "   -------------------- ------------------- 1/2 [openpyxl]\n",
      "   ---------------------------------------- 2/2 [openpyxl]\n",
      "\n",
      "Successfully installed et-xmlfile-2.0.0 openpyxl-3.1.5\n",
      "Note: you may need to restart the kernel to use updated packages.\n"
     ]
    }
   ],
   "source": [
    "%pip install openpyxl"
   ]
  },
  {
   "cell_type": "code",
   "execution_count": 2,
   "id": "3f3d3acf",
   "metadata": {},
   "outputs": [
    {
     "data": {
      "text/html": [
       "<div>\n",
       "<style scoped>\n",
       "    .dataframe tbody tr th:only-of-type {\n",
       "        vertical-align: middle;\n",
       "    }\n",
       "\n",
       "    .dataframe tbody tr th {\n",
       "        vertical-align: top;\n",
       "    }\n",
       "\n",
       "    .dataframe thead th {\n",
       "        text-align: right;\n",
       "    }\n",
       "</style>\n",
       "<table border=\"1\" class=\"dataframe\">\n",
       "  <thead>\n",
       "    <tr style=\"text-align: right;\">\n",
       "      <th></th>\n",
       "      <th>CredNo</th>\n",
       "      <th>User Name</th>\n",
       "      <th>Password</th>\n",
       "      <th>UserAccess</th>\n",
       "      <th>Account</th>\n",
       "    </tr>\n",
       "  </thead>\n",
       "  <tbody>\n",
       "    <tr>\n",
       "      <th>0</th>\n",
       "      <td>1</td>\n",
       "      <td>user_manager</td>\n",
       "      <td>Bankease@123</td>\n",
       "      <td>Manager</td>\n",
       "      <td>All</td>\n",
       "    </tr>\n",
       "    <tr>\n",
       "      <th>1</th>\n",
       "      <td>2</td>\n",
       "      <td>user_customer1</td>\n",
       "      <td>Bankease@123</td>\n",
       "      <td>Customer</td>\n",
       "      <td>ACC10000</td>\n",
       "    </tr>\n",
       "    <tr>\n",
       "      <th>2</th>\n",
       "      <td>3</td>\n",
       "      <td>user_customer2</td>\n",
       "      <td>Bankease@123</td>\n",
       "      <td>Customer</td>\n",
       "      <td>ACC10001</td>\n",
       "    </tr>\n",
       "  </tbody>\n",
       "</table>\n",
       "</div>"
      ],
      "text/plain": [
       "   CredNo       User Name      Password UserAccess   Account\n",
       "0       1    user_manager  Bankease@123    Manager       All\n",
       "1       2  user_customer1  Bankease@123   Customer  ACC10000\n",
       "2       3  user_customer2  Bankease@123   Customer  ACC10001"
      ]
     },
     "execution_count": 2,
     "metadata": {},
     "output_type": "execute_result"
    }
   ],
   "source": [
    "import pandas as pd\n",
    "\n",
    "df = pd.read_excel(\"login_credentials.xlsx\")\n",
    "df"
   ]
  },
  {
   "cell_type": "code",
   "execution_count": 3,
   "id": "71db86ab",
   "metadata": {},
   "outputs": [],
   "source": [
    "import bcrypt\n",
    "\n",
    "def encryption(password):\n",
    "    password_bytes = password.encode('utf-8')\n",
    "    hashed = bcrypt.hashpw(password_bytes, bcrypt.gensalt())\n",
    "    return hashed"
   ]
  },
  {
   "cell_type": "code",
   "execution_count": 5,
   "id": "23dde0c2",
   "metadata": {},
   "outputs": [],
   "source": [
    "df[\"password_encrypted\"] = df[\"Password\"].apply(encryption)"
   ]
  },
  {
   "cell_type": "code",
   "execution_count": 15,
   "id": "e28f95fa",
   "metadata": {},
   "outputs": [
    {
     "data": {
      "text/html": [
       "<div>\n",
       "<style scoped>\n",
       "    .dataframe tbody tr th:only-of-type {\n",
       "        vertical-align: middle;\n",
       "    }\n",
       "\n",
       "    .dataframe tbody tr th {\n",
       "        vertical-align: top;\n",
       "    }\n",
       "\n",
       "    .dataframe thead th {\n",
       "        text-align: right;\n",
       "    }\n",
       "</style>\n",
       "<table border=\"1\" class=\"dataframe\">\n",
       "  <thead>\n",
       "    <tr style=\"text-align: right;\">\n",
       "      <th></th>\n",
       "      <th>CredNo</th>\n",
       "      <th>User Name</th>\n",
       "      <th>Password</th>\n",
       "      <th>UserAccess</th>\n",
       "      <th>Account</th>\n",
       "      <th>password_encrypted</th>\n",
       "    </tr>\n",
       "  </thead>\n",
       "  <tbody>\n",
       "    <tr>\n",
       "      <th>0</th>\n",
       "      <td>1</td>\n",
       "      <td>user_manager</td>\n",
       "      <td>Bankease@123</td>\n",
       "      <td>Manager</td>\n",
       "      <td>All</td>\n",
       "      <td>b'$2b$12$S629nzaRzK7jQloMlXEzCeW4VM8oGvXwLT6NI...</td>\n",
       "    </tr>\n",
       "    <tr>\n",
       "      <th>1</th>\n",
       "      <td>2</td>\n",
       "      <td>user_customer1</td>\n",
       "      <td>Bankease@123</td>\n",
       "      <td>Customer</td>\n",
       "      <td>ACC10000</td>\n",
       "      <td>b'$2b$12$Bzug4t6JkITfYJ3zcy2U7u9RFUkd9U/tKKNIS...</td>\n",
       "    </tr>\n",
       "    <tr>\n",
       "      <th>2</th>\n",
       "      <td>3</td>\n",
       "      <td>user_customer2</td>\n",
       "      <td>Bankease@123</td>\n",
       "      <td>Customer</td>\n",
       "      <td>ACC10001</td>\n",
       "      <td>b'$2b$12$snNhBHJPJ.5VeAqWFHeaeeYX9hpfuJuL1qgmc...</td>\n",
       "    </tr>\n",
       "  </tbody>\n",
       "</table>\n",
       "</div>"
      ],
      "text/plain": [
       "   CredNo       User Name      Password UserAccess   Account  \\\n",
       "0       1    user_manager  Bankease@123    Manager       All   \n",
       "1       2  user_customer1  Bankease@123   Customer  ACC10000   \n",
       "2       3  user_customer2  Bankease@123   Customer  ACC10001   \n",
       "\n",
       "                                  password_encrypted  \n",
       "0  b'$2b$12$S629nzaRzK7jQloMlXEzCeW4VM8oGvXwLT6NI...  \n",
       "1  b'$2b$12$Bzug4t6JkITfYJ3zcy2U7u9RFUkd9U/tKKNIS...  \n",
       "2  b'$2b$12$snNhBHJPJ.5VeAqWFHeaeeYX9hpfuJuL1qgmc...  "
      ]
     },
     "execution_count": 15,
     "metadata": {},
     "output_type": "execute_result"
    }
   ],
   "source": [
    "df"
   ]
  },
  {
   "cell_type": "code",
   "execution_count": 16,
   "id": "b8fdedde",
   "metadata": {},
   "outputs": [],
   "source": [
    "df.to_csv(\"login_credentials_encrypted.csv\")"
   ]
  },
  {
   "cell_type": "code",
   "execution_count": 6,
   "id": "45632363",
   "metadata": {},
   "outputs": [
    {
     "data": {
      "text/html": [
       "<div>\n",
       "<style scoped>\n",
       "    .dataframe tbody tr th:only-of-type {\n",
       "        vertical-align: middle;\n",
       "    }\n",
       "\n",
       "    .dataframe tbody tr th {\n",
       "        vertical-align: top;\n",
       "    }\n",
       "\n",
       "    .dataframe thead th {\n",
       "        text-align: right;\n",
       "    }\n",
       "</style>\n",
       "<table border=\"1\" class=\"dataframe\">\n",
       "  <thead>\n",
       "    <tr style=\"text-align: right;\">\n",
       "      <th></th>\n",
       "      <th>Unnamed: 0</th>\n",
       "      <th>CredNo</th>\n",
       "      <th>User Name</th>\n",
       "      <th>Password</th>\n",
       "      <th>UserAccess</th>\n",
       "      <th>Account</th>\n",
       "      <th>password_encrypted</th>\n",
       "    </tr>\n",
       "  </thead>\n",
       "  <tbody>\n",
       "    <tr>\n",
       "      <th>0</th>\n",
       "      <td>0</td>\n",
       "      <td>1</td>\n",
       "      <td>user_manager</td>\n",
       "      <td>Bankease@123</td>\n",
       "      <td>Manager</td>\n",
       "      <td>All</td>\n",
       "      <td>b'$2b$12$S629nzaRzK7jQloMlXEzCeW4VM8oGvXwLT6NI...</td>\n",
       "    </tr>\n",
       "    <tr>\n",
       "      <th>1</th>\n",
       "      <td>1</td>\n",
       "      <td>2</td>\n",
       "      <td>user_customer1</td>\n",
       "      <td>Bankease@123</td>\n",
       "      <td>Customer</td>\n",
       "      <td>ACC10000</td>\n",
       "      <td>b'$2b$12$Bzug4t6JkITfYJ3zcy2U7u9RFUkd9U/tKKNIS...</td>\n",
       "    </tr>\n",
       "    <tr>\n",
       "      <th>2</th>\n",
       "      <td>2</td>\n",
       "      <td>3</td>\n",
       "      <td>user_customer2</td>\n",
       "      <td>Bankease@123</td>\n",
       "      <td>Customer</td>\n",
       "      <td>ACC10001</td>\n",
       "      <td>b'$2b$12$snNhBHJPJ.5VeAqWFHeaeeYX9hpfuJuL1qgmc...</td>\n",
       "    </tr>\n",
       "  </tbody>\n",
       "</table>\n",
       "</div>"
      ],
      "text/plain": [
       "   Unnamed: 0  CredNo       User Name      Password UserAccess   Account  \\\n",
       "0           0       1    user_manager  Bankease@123    Manager       All   \n",
       "1           1       2  user_customer1  Bankease@123   Customer  ACC10000   \n",
       "2           2       3  user_customer2  Bankease@123   Customer  ACC10001   \n",
       "\n",
       "                                  password_encrypted  \n",
       "0  b'$2b$12$S629nzaRzK7jQloMlXEzCeW4VM8oGvXwLT6NI...  \n",
       "1  b'$2b$12$Bzug4t6JkITfYJ3zcy2U7u9RFUkd9U/tKKNIS...  \n",
       "2  b'$2b$12$snNhBHJPJ.5VeAqWFHeaeeYX9hpfuJuL1qgmc...  "
      ]
     },
     "execution_count": 6,
     "metadata": {},
     "output_type": "execute_result"
    }
   ],
   "source": [
    "cred_df = pd.read_csv(\"login_credentials_encrypted.csv\")\n",
    "cred_df\n"
   ]
  },
  {
   "cell_type": "code",
   "execution_count": 18,
   "id": "c43caffe",
   "metadata": {},
   "outputs": [
    {
     "name": "stdout",
     "output_type": "stream",
     "text": [
      "0\n",
      "1\n",
      "2\n"
     ]
    }
   ],
   "source": [
    "for i in range(cred_df.shape[0]):\n",
    "    print(i)"
   ]
  },
  {
   "cell_type": "code",
   "execution_count": 13,
   "id": "b4ae3c3f",
   "metadata": {},
   "outputs": [
    {
     "data": {
      "text/plain": [
       "b'$2b$12$S629nzaRzK7jQloMlXEzCeW4VM8oGvXwLT6NIINPUaFgyfKDHxT6O'"
      ]
     },
     "execution_count": 13,
     "metadata": {},
     "output_type": "execute_result"
    }
   ],
   "source": [
    "import ast\n",
    "\n",
    "stored_hash = cred_df.loc[0, \"password_encrypted\"]\n",
    "stored_hash_bytes = ast.literal_eval(stored_hash)\n",
    "stored_hash_bytes"
   ]
  },
  {
   "cell_type": "code",
   "execution_count": 14,
   "id": "62aa123b",
   "metadata": {},
   "outputs": [
    {
     "data": {
      "text/plain": [
       "True"
      ]
     },
     "execution_count": 14,
     "metadata": {},
     "output_type": "execute_result"
    }
   ],
   "source": [
    "import bcrypt\n",
    "\n",
    "entered_password = \"Bankease@123\"\n",
    "\n",
    "bcrypt.checkpw(entered_password.encode('utf-8'), stored_hash_bytes)"
   ]
  },
  {
   "cell_type": "code",
   "execution_count": 15,
   "id": "6ac1303f",
   "metadata": {},
   "outputs": [
    {
     "data": {
      "text/plain": [
       "False"
      ]
     },
     "execution_count": 15,
     "metadata": {},
     "output_type": "execute_result"
    }
   ],
   "source": [
    "import bcrypt\n",
    "\n",
    "entered_password = \"random@123\"\n",
    "\n",
    "bcrypt.checkpw(entered_password.encode('utf-8'), stored_hash_bytes)"
   ]
  }
 ],
 "metadata": {
  "kernelspec": {
   "display_name": "bankease_venv",
   "language": "python",
   "name": "python3"
  },
  "language_info": {
   "codemirror_mode": {
    "name": "ipython",
    "version": 3
   },
   "file_extension": ".py",
   "mimetype": "text/x-python",
   "name": "python",
   "nbconvert_exporter": "python",
   "pygments_lexer": "ipython3",
   "version": "3.11.0"
  }
 },
 "nbformat": 4,
 "nbformat_minor": 5
}
